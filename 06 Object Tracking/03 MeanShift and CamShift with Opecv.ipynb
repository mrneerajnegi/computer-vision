{
 "cells": [
  {
   "cell_type": "code",
   "execution_count": 3,
   "id": "6708b04f",
   "metadata": {},
   "outputs": [],
   "source": [
    "import numpy as np\n",
    "import matplotlib.pyplot as plt\n",
    "import cv2"
   ]
  },
  {
   "cell_type": "markdown",
   "id": "5ceb907f",
   "metadata": {},
   "source": [
    "# MeanShift"
   ]
  },
  {
   "cell_type": "code",
   "execution_count": 2,
   "id": "9bee6480",
   "metadata": {},
   "outputs": [
    {
     "ename": "IndexError",
     "evalue": "tuple index out of range",
     "output_type": "error",
     "traceback": [
      "\u001b[0;31m---------------------------------------------------------------------------\u001b[0m",
      "\u001b[0;31mIndexError\u001b[0m                                Traceback (most recent call last)",
      "\u001b[0;32m<ipython-input-2-b21500170562>\u001b[0m in \u001b[0;36m<module>\u001b[0;34m\u001b[0m\n\u001b[1;32m      4\u001b[0m \u001b[0;32mif\u001b[0m \u001b[0mret\u001b[0m\u001b[0;34m:\u001b[0m\u001b[0;34m\u001b[0m\u001b[0;34m\u001b[0m\u001b[0m\n\u001b[1;32m      5\u001b[0m     \u001b[0mfaceData\u001b[0m\u001b[0;34m=\u001b[0m\u001b[0mface_cascade\u001b[0m\u001b[0;34m.\u001b[0m\u001b[0mdetectMultiScale\u001b[0m\u001b[0;34m(\u001b[0m\u001b[0mframe\u001b[0m\u001b[0;34m)\u001b[0m\u001b[0;34m;\u001b[0m\u001b[0;34m\u001b[0m\u001b[0;34m\u001b[0m\u001b[0m\n\u001b[0;32m----> 6\u001b[0;31m     \u001b[0mx\u001b[0m\u001b[0;34m,\u001b[0m\u001b[0my\u001b[0m\u001b[0;34m,\u001b[0m\u001b[0mw\u001b[0m\u001b[0;34m,\u001b[0m\u001b[0mh\u001b[0m\u001b[0;34m=\u001b[0m\u001b[0mtuple\u001b[0m\u001b[0;34m(\u001b[0m\u001b[0mfaceData\u001b[0m\u001b[0;34m[\u001b[0m\u001b[0;36m0\u001b[0m\u001b[0;34m]\u001b[0m\u001b[0;34m)\u001b[0m\u001b[0;34m\u001b[0m\u001b[0;34m\u001b[0m\u001b[0m\n\u001b[0m\u001b[1;32m      7\u001b[0m     \u001b[0mtrackWindow\u001b[0m\u001b[0;34m=\u001b[0m\u001b[0;34m(\u001b[0m\u001b[0mx\u001b[0m\u001b[0;34m,\u001b[0m\u001b[0my\u001b[0m\u001b[0;34m,\u001b[0m\u001b[0mw\u001b[0m\u001b[0;34m,\u001b[0m\u001b[0mh\u001b[0m\u001b[0;34m)\u001b[0m\u001b[0;34m\u001b[0m\u001b[0;34m\u001b[0m\u001b[0m\n\u001b[1;32m      8\u001b[0m     \u001b[0mtrackPortion\u001b[0m\u001b[0;34m=\u001b[0m\u001b[0mframe\u001b[0m\u001b[0;34m[\u001b[0m\u001b[0my\u001b[0m\u001b[0;34m:\u001b[0m\u001b[0my\u001b[0m\u001b[0;34m+\u001b[0m\u001b[0mh\u001b[0m\u001b[0;34m,\u001b[0m\u001b[0mx\u001b[0m\u001b[0;34m:\u001b[0m\u001b[0mx\u001b[0m\u001b[0;34m+\u001b[0m\u001b[0mw\u001b[0m\u001b[0;34m]\u001b[0m\u001b[0;34m\u001b[0m\u001b[0;34m\u001b[0m\u001b[0m\n",
      "\u001b[0;31mIndexError\u001b[0m: tuple index out of range"
     ]
    }
   ],
   "source": [
    "face_cascade=cv2.CascadeClassifier(\"../Computer-Vision-with-Python/DATA/haarcascades/haarcascade_frontalface_default.xml\")\n",
    "cap=cv2.VideoCapture(0)\n",
    "ret, frame=cap.read()\n",
    "if ret:\n",
    "    faceData=face_cascade.detectMultiScale(frame);\n",
    "    x,y,w,h=tuple(faceData[0])\n",
    "    trackWindow=(x,y,w,h)\n",
    "    trackPortion=frame[y:y+h,x:x+w]\n",
    "    portion_hue=cv2.cvtColor(trackPortion,cv2.COLOR_BGR2HSV)\n",
    "    portHist=cv2.calcHist([portion_hue],[0],None,[180],[0,180])\n",
    "    cv2.normalize(portion_hue,portion_hue,0,255,cv2.NORM_MINMAX)\n",
    "    term_cret=(cv2.TermCriteria_EPS | cv2.TermCriteria_COUNT , 10,1)\n",
    "    while True :\n",
    "        ret,frame=cap.read()\n",
    "        if ret==True:\n",
    "            frameHue=cv2.cvtColor(frame,cv2.COLOR_BGR2HSV)\n",
    "            dst=cv2.calcBackProject([frameHue],[0],portHist,[0,180],1)\n",
    "            ret,trackWindow=cv2.meanShift(dst,trackWindow,term_cret)\n",
    "            x,y,w,h=trackWindow\n",
    "            frame=cv2.rectangle(frame,(x,y),(x+w,y+h),(255,0,0),10)\n",
    "            cv2.imshow(\"frame\",frame)\n",
    "            if cv2.waitKey(1) & 0xFF==27:\n",
    "                break;\n",
    "        else:\n",
    "            break\n",
    "    cap.release()\n",
    "    cv2.destroyAllWindows()\n",
    "        \n",
    "        "
   ]
  },
  {
   "cell_type": "markdown",
   "id": "072f2f91",
   "metadata": {},
   "source": [
    "# CamSHift"
   ]
  },
  {
   "cell_type": "code",
   "execution_count": 4,
   "id": "3ad72c43",
   "metadata": {},
   "outputs": [],
   "source": [
    "face_cascade=cv2.CascadeClassifier(\"../Computer-Vision-with-Python/DATA/haarcascades/haarcascade_frontalface_default.xml\")\n",
    "cap=cv2.VideoCapture(0)\n",
    "ret, frame=cap.read()\n",
    "if ret:\n",
    "    faceData=face_cascade.detectMultiScale(frame);\n",
    "    x,y,w,h=tuple(faceData[0])\n",
    "    trackWindow=(x,y,w,h)\n",
    "    trackPortion=frame[y:y+h,x:x+w]\n",
    "    portion_hue=cv2.cvtColor(trackPortion,cv2.COLOR_BGR2HSV)\n",
    "    portHist=cv2.calcHist([portion_hue],[0],None,[180],[0,180])\n",
    "    cv2.normalize(portion_hue,portion_hue,0,255,cv2.NORM_MINMAX)\n",
    "    term_cret=(cv2.TermCriteria_EPS | cv2.TermCriteria_COUNT , 10,1)\n",
    "    while True :\n",
    "        ret,frame=cap.read()\n",
    "        if ret==True:\n",
    "            frameHue=cv2.cvtColor(frame,cv2.COLOR_BGR2HSV)\n",
    "            dst=cv2.calcBackProject([frameHue],[0],portHist,[0,180],1)\n",
    "            ret,trackWindow=cv2.CamShift(dst,trackWindow,term_cret)\n",
    "            \n",
    "            pts=cv2.boxPoints(ret)\n",
    "            pts=np.int0(pts)\n",
    "            img=cv2.polylines(frame,[pts],True,(255,0,0),5)\n",
    "            \n",
    "            cv2.imshow(\"frame\",img)\n",
    "            if cv2.waitKey(1) & 0xFF==27:\n",
    "                break;\n",
    "        else:\n",
    "            break\n",
    "    cap.release()\n",
    "    cv2.destroyAllWindows()\n",
    "        \n",
    "        "
   ]
  },
  {
   "cell_type": "code",
   "execution_count": null,
   "id": "d16d7011",
   "metadata": {},
   "outputs": [],
   "source": []
  }
 ],
 "metadata": {
  "kernelspec": {
   "display_name": "Python 3",
   "language": "python",
   "name": "python3"
  },
  "language_info": {
   "codemirror_mode": {
    "name": "ipython",
    "version": 3
   },
   "file_extension": ".py",
   "mimetype": "text/x-python",
   "name": "python",
   "nbconvert_exporter": "python",
   "pygments_lexer": "ipython3",
   "version": "3.8.8"
  }
 },
 "nbformat": 4,
 "nbformat_minor": 5
}
