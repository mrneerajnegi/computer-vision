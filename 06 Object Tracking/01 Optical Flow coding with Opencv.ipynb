{
 "cells": [
  {
   "cell_type": "markdown",
   "id": "b83d25f4",
   "metadata": {},
   "source": [
    "# If we want to track some points in the video : LUCAS KANADE FUNCTION\n",
    "\n",
    "\n",
    "- We will give points to algo to track,\n",
    "-Then we will find those point in next frame\n"
   ]
  },
  {
   "cell_type": "code",
   "execution_count": 1,
   "id": "00983888",
   "metadata": {},
   "outputs": [],
   "source": [
    "import numpy as np\n",
    "import matplotlib.pyplot as plt\n",
    "import cv2"
   ]
  },
  {
   "cell_type": "code",
   "execution_count": 2,
   "id": "345cab55",
   "metadata": {},
   "outputs": [],
   "source": [
    "cornersParams=dict(maxCorners=10,qualityLevel=0.5,minDistance=7,blockSize=7)\n",
    "lkParams=dict(winSize=(200,200),maxLevel=2,criteria=(cv2.TERM_CRITERIA_EPS | cv2.TERM_CRITERIA_COUNT,10,0.03))"
   ]
  },
  {
   "cell_type": "code",
   "execution_count": null,
   "id": "e5990cb2",
   "metadata": {},
   "outputs": [],
   "source": [
    "cap=cv2.VideoCapture(0)\n",
    "ret,currentFrame=cap.read()\n",
    "currentFrameGray=cv2.cvtColor(currentFrame,cv2.COLOR_BGR2GRAY)\n",
    "initialPoints=cv2.goodFeaturesToTrack(currentFrameGray,mask=None,**cornersParams)\n",
    "mask=np.zeros_like(currentFrame)\n",
    "\n",
    "while True:\n",
    "    rett,newFrame=cap.read()\n",
    "    newFrameGray=cv2.cvtColor(newFrame,cv2.COLOR_BGR2GRAY)\n",
    "    nextPts, status, err=cv2.calcOpticalFlowPyrLK(currentFrameGray,newFrameGray,initialPoints,None,**lkParams,)\n",
    "    currentCorners=initialPoints[status==1]\n",
    "    nextCorners=nextPts[status==1]\n",
    "    for i ,(current,nextt) in enumerate(zip(currentCorners,nextCorners)):\n",
    "        current_x,current_y=current.ravel()\n",
    "        next_x,next_y=nextt.ravel()\n",
    "        mask=cv2.line(mask,(int(current_x),int(current_y)),(int(next_x),int(next_y)),(0,255,0),3)\n",
    "        newFrame=cv2.circle(newFrame,(int(next_x),int(next_y)),10,(255,0,0),-1)\n",
    "    img=cv2.add(newFrame,mask);\n",
    "    cv2.imshow(\"Frame\",img)\n",
    "    if cv2.waitKey(1) & 0xFF==27:\n",
    "        break;\n",
    "    currentFrameGray=newFrameGray.copy();\n",
    "    initialPoints=nextCorners.reshape(-1,1,2)\n",
    "cap.release()\n",
    "cv2.destroyAllWindows()"
   ]
  },
  {
   "cell_type": "code",
   "execution_count": null,
   "id": "2d96cc16",
   "metadata": {},
   "outputs": [],
   "source": []
  }
 ],
 "metadata": {
  "kernelspec": {
   "display_name": "Python 3",
   "language": "python",
   "name": "python3"
  },
  "language_info": {
   "codemirror_mode": {
    "name": "ipython",
    "version": 3
   },
   "file_extension": ".py",
   "mimetype": "text/x-python",
   "name": "python",
   "nbconvert_exporter": "python",
   "pygments_lexer": "ipython3",
   "version": "3.8.8"
  }
 },
 "nbformat": 4,
 "nbformat_minor": 5
}
