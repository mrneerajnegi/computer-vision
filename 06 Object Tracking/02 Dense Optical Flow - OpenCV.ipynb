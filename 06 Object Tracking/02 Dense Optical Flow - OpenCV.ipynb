{
 "cells": [
  {
   "cell_type": "markdown",
   "id": "deaf2382",
   "metadata": {},
   "source": [
    "# If we want to track all points in the video : GUNNER FARNEBACK'S ALGO\n",
    "\n",
    "-calculate flow for allpoints in an image\n",
    "\n",
    "-It will color balck if no flow"
   ]
  },
  {
   "cell_type": "code",
   "execution_count": 1,
   "id": "8a5dcec5",
   "metadata": {},
   "outputs": [],
   "source": [
    "import numpy as np\n",
    "import matplotlib.pyplot as plt\n",
    "import cv2"
   ]
  },
  {
   "cell_type": "code",
   "execution_count": 2,
   "id": "4421ca1e",
   "metadata": {},
   "outputs": [],
   "source": [
    "cap=cv2.VideoCapture(0)\n",
    "ret,prevFrame=cap.read()\n",
    "prevFrameGray=cv2.cvtColor(prevFrame,cv2.COLOR_BGR2GRAY)\n",
    "hsv=np.zeros_like(prevFrame)\n",
    "hsv[:,:,1]=255\n",
    "while True :\n",
    "    ret,nextFrame=cap.read()\n",
    "    nextFrameGray=cv2.cvtColor(nextFrame,cv2.COLOR_BGR2GRAY)\n",
    "    flow=cv2.calcOpticalFlowFarneback(nextFrameGray,prevFrameGray,None,0.5,3,15,3,5,1.2,0)\n",
    "    mag,angle=cv2.cartToPolar(flow[:,:,0],flow[:,:,1],angleInDegrees=True)\n",
    "    hsv[:,:,0]=angle/2\n",
    "    hsv[:,:,2]=cv2.normalize(mag,None,0,255,cv2.NORM_MINMAX)\n",
    "    bgr=cv2.cvtColor(hsv,cv2.COLOR_HSV2BGR)\n",
    "    cv2.imshow(\"Frame\",bgr)\n",
    "    prevFrameGray=nextFrameGray\n",
    "    if cv2.waitKey(1) & 0xFF==27:\n",
    "        break;\n",
    "cap.release()\n",
    "cv2.destroyAllWindows()\n",
    "    "
   ]
  },
  {
   "cell_type": "code",
   "execution_count": null,
   "id": "83d70fa1",
   "metadata": {},
   "outputs": [],
   "source": []
  }
 ],
 "metadata": {
  "kernelspec": {
   "display_name": "Python 3",
   "language": "python",
   "name": "python3"
  },
  "language_info": {
   "codemirror_mode": {
    "name": "ipython",
    "version": 3
   },
   "file_extension": ".py",
   "mimetype": "text/x-python",
   "name": "python",
   "nbconvert_exporter": "python",
   "pygments_lexer": "ipython3",
   "version": "3.8.8"
  }
 },
 "nbformat": 4,
 "nbformat_minor": 5
}
