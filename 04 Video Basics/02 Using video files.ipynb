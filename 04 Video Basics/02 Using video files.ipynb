{
 "cells": [
  {
   "cell_type": "code",
   "execution_count": 7,
   "id": "333a9dfa",
   "metadata": {},
   "outputs": [],
   "source": [
    "import cv2\n",
    "import time"
   ]
  },
  {
   "cell_type": "code",
   "execution_count": 12,
   "id": "acb14ed5",
   "metadata": {},
   "outputs": [
    {
     "name": "stdout",
     "output_type": "stream",
     "text": [
      "Video not found!\n"
     ]
    }
   ],
   "source": [
    "cap=cv2.VideoCapture(\"./myvideso.mp4\")\n",
    "if cap.isOpened()== False:\n",
    "    print(\"Video not found!\")\n",
    "while cap.isOpened:\n",
    "    ret,frame=cap.read()\n",
    "    if ret ==True:\n",
    "        cv2.imshow(\"Frames\",frame)\n",
    "        time.sleep(1/20)   #play with recorded frame per sec\n",
    "        if cv2.waitKey(1) & 0xFF ==27:\n",
    "            break;\n",
    "    else:\n",
    "        break\n",
    "cap.release()\n",
    "cv2.destroyAllWindows() \n",
    "    "
   ]
  },
  {
   "cell_type": "code",
   "execution_count": null,
   "id": "58776469",
   "metadata": {},
   "outputs": [],
   "source": []
  }
 ],
 "metadata": {
  "kernelspec": {
   "display_name": "Python 3",
   "language": "python",
   "name": "python3"
  },
  "language_info": {
   "codemirror_mode": {
    "name": "ipython",
    "version": 3
   },
   "file_extension": ".py",
   "mimetype": "text/x-python",
   "name": "python",
   "nbconvert_exporter": "python",
   "pygments_lexer": "ipython3",
   "version": "3.8.8"
  }
 },
 "nbformat": 4,
 "nbformat_minor": 5
}
