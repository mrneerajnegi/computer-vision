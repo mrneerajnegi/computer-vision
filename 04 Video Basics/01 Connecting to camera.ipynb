{
 "cells": [
  {
   "cell_type": "code",
   "execution_count": 1,
   "id": "2314eba6",
   "metadata": {},
   "outputs": [],
   "source": [
    "import cv2"
   ]
  },
  {
   "cell_type": "code",
   "execution_count": 2,
   "id": "dcea8dd0",
   "metadata": {},
   "outputs": [],
   "source": [
    "cap=cv2.VideoCapture(0) # 0 => default camera"
   ]
  },
  {
   "cell_type": "code",
   "execution_count": 3,
   "id": "590c5777",
   "metadata": {},
   "outputs": [],
   "source": [
    "width=int(cap.get(cv2.CAP_PROP_FRAME_WIDTH))\n",
    "height=int(cap.get(cv2.CAP_PROP_FRAME_HEIGHT))\n",
    "#print(cap.get(cv2.CAP_PROP_FRAME_COUNT))\n",
    "#width"
   ]
  },
  {
   "cell_type": "code",
   "execution_count": 4,
   "id": "95455148",
   "metadata": {},
   "outputs": [],
   "source": [
    "#Windows       *'DIVX'\n",
    "#MacOS/Linux   *'XVID'"
   ]
  },
  {
   "cell_type": "code",
   "execution_count": 5,
   "id": "6250844a",
   "metadata": {},
   "outputs": [],
   "source": [
    "writer=cv2.VideoWriter(\"myvideo.mp4\",cv2.VideoWriter_fourcc(*'XVID'),20,(width,height))\n",
    "while True:\n",
    "    ret,frame=cap.read()\n",
    "    flippedImage=cv2.flip(frame,1)\n",
    "    cv2.imshow(\"frame\",flippedImage)\n",
    "    writer.write(flippedImage)\n",
    "    if cv2.waitKey(1) & 0xFF==27:\n",
    "        break;\n",
    "cap.release()\n",
    "writer.release()\n",
    "cv2.destroyAllWindows()"
   ]
  },
  {
   "cell_type": "code",
   "execution_count": 6,
   "id": "bec8993d",
   "metadata": {},
   "outputs": [
    {
     "ename": "error",
     "evalue": "OpenCV(4.5.5) /Users/runner/work/opencv-python/opencv-python/opencv/modules/imgproc/src/color.cpp:182: error: (-215:Assertion failed) !_src.empty() in function 'cvtColor'\n",
     "output_type": "error",
     "traceback": [
      "\u001b[0;31m---------------------------------------------------------------------------\u001b[0m",
      "\u001b[0;31merror\u001b[0m                                     Traceback (most recent call last)",
      "\u001b[0;32m<ipython-input-6-1b58632db4df>\u001b[0m in \u001b[0;36m<module>\u001b[0;34m\u001b[0m\n\u001b[1;32m      3\u001b[0m \u001b[0;32mwhile\u001b[0m \u001b[0;32mTrue\u001b[0m\u001b[0;34m:\u001b[0m\u001b[0;34m\u001b[0m\u001b[0;34m\u001b[0m\u001b[0m\n\u001b[1;32m      4\u001b[0m     \u001b[0mret\u001b[0m\u001b[0;34m,\u001b[0m\u001b[0mframe\u001b[0m\u001b[0;34m=\u001b[0m\u001b[0mcap\u001b[0m\u001b[0;34m.\u001b[0m\u001b[0mread\u001b[0m\u001b[0;34m(\u001b[0m\u001b[0;34m)\u001b[0m\u001b[0;34m\u001b[0m\u001b[0;34m\u001b[0m\u001b[0m\n\u001b[0;32m----> 5\u001b[0;31m     \u001b[0mgray_image\u001b[0m\u001b[0;34m=\u001b[0m\u001b[0mcv2\u001b[0m\u001b[0;34m.\u001b[0m\u001b[0mcvtColor\u001b[0m\u001b[0;34m(\u001b[0m\u001b[0mframe\u001b[0m\u001b[0;34m,\u001b[0m\u001b[0mcv2\u001b[0m\u001b[0;34m.\u001b[0m\u001b[0mCOLOR_BGR2GRAY\u001b[0m\u001b[0;34m)\u001b[0m\u001b[0;34m\u001b[0m\u001b[0;34m\u001b[0m\u001b[0m\n\u001b[0m\u001b[1;32m      6\u001b[0m     \u001b[0mflippedImage\u001b[0m\u001b[0;34m=\u001b[0m\u001b[0mcv2\u001b[0m\u001b[0;34m.\u001b[0m\u001b[0mflip\u001b[0m\u001b[0;34m(\u001b[0m\u001b[0mgray_image\u001b[0m\u001b[0;34m,\u001b[0m\u001b[0;36m1\u001b[0m\u001b[0;34m)\u001b[0m\u001b[0;34m\u001b[0m\u001b[0;34m\u001b[0m\u001b[0m\n\u001b[1;32m      7\u001b[0m     \u001b[0mcv2\u001b[0m\u001b[0;34m.\u001b[0m\u001b[0mimshow\u001b[0m\u001b[0;34m(\u001b[0m\u001b[0;34m\"frame\"\u001b[0m\u001b[0;34m,\u001b[0m\u001b[0mflippedImage\u001b[0m\u001b[0;34m)\u001b[0m\u001b[0;34m\u001b[0m\u001b[0;34m\u001b[0m\u001b[0m\n",
      "\u001b[0;31merror\u001b[0m: OpenCV(4.5.5) /Users/runner/work/opencv-python/opencv-python/opencv/modules/imgproc/src/color.cpp:182: error: (-215:Assertion failed) !_src.empty() in function 'cvtColor'\n"
     ]
    }
   ],
   "source": [
    "#if gray video\n",
    "writer=cv2.VideoWriter(\"myvideo.mp4\",cv2.VideoWriter_fourcc(*'XVID'),20,(width,height),isColor=False)\n",
    "while True:\n",
    "    ret,frame=cap.read()\n",
    "    gray_image=cv2.cvtColor(frame,cv2.COLOR_BGR2GRAY)\n",
    "    flippedImage=cv2.flip(gray_image,1)\n",
    "    cv2.imshow(\"frame\",flippedImage)\n",
    "    writer.write(flippedImage)\n",
    "    if cv2.waitKey(1) & 0xFF==27:\n",
    "        break;\n",
    "cap.release()\n",
    "writer.release()\n",
    "cv2.destroyAllWindows()"
   ]
  },
  {
   "cell_type": "code",
   "execution_count": null,
   "id": "1a1c48bc",
   "metadata": {},
   "outputs": [],
   "source": []
  }
 ],
 "metadata": {
  "kernelspec": {
   "display_name": "Python 3",
   "language": "python",
   "name": "python3"
  },
  "language_info": {
   "codemirror_mode": {
    "name": "ipython",
    "version": 3
   },
   "file_extension": ".py",
   "mimetype": "text/x-python",
   "name": "python",
   "nbconvert_exporter": "python",
   "pygments_lexer": "ipython3",
   "version": "3.8.8"
  }
 },
 "nbformat": 4,
 "nbformat_minor": 5
}
