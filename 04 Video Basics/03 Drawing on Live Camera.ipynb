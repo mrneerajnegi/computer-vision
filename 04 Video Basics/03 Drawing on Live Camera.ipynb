{
 "cells": [
  {
   "cell_type": "code",
   "execution_count": 1,
   "id": "49b21be0",
   "metadata": {},
   "outputs": [],
   "source": [
    "import cv2"
   ]
  },
  {
   "cell_type": "code",
   "execution_count": 2,
   "id": "30b9ab5a",
   "metadata": {},
   "outputs": [],
   "source": [
    "# #create rectangle\n",
    "# cap=cv2.VideoCapture(0)\n",
    "\n",
    "# while True:\n",
    "#     ret,frame=cap.read()\n",
    "#     cv2.rectangle(frame,(20,20),(200,100),(0,0,255),5)\n",
    "#     cv2.imshow(\"frame\",frame)\n",
    "#     if cv2.waitKey(1) & 0xFF ==27:\n",
    "#         break\n",
    "# cap.release()\n",
    "# cv2.destroyAllWindows()"
   ]
  },
  {
   "cell_type": "code",
   "execution_count": null,
   "id": "e6a0dcb6",
   "metadata": {},
   "outputs": [],
   "source": [
    "#create rectangle using mouse\n",
    "pt1=(0,0)\n",
    "pt2=(0,0)\n",
    "topLeftClicked=False\n",
    "bottomRightCLicked=False\n",
    "\n",
    "def createRectangle(event,x,y,flag,params):\n",
    "    global pt1,pt2,topLeftClicked,bottomRightCLicked\n",
    "    if event==cv2.EVENT_LBUTTONDOWN:\n",
    "        if topLeftClicked & bottomRightCLicked:\n",
    "            pt1=(0,0)\n",
    "            pt2=(0,0)\n",
    "            topLeftClicked=False\n",
    "            bottomRightCLicked=False\n",
    "            \n",
    "        if topLeftClicked==False:\n",
    "            topLeftClicked=True\n",
    "            pt1=(x,y)\n",
    "            \n",
    "        elif bottomRightCLicked==False:\n",
    "                pt2=(x,y)\n",
    "                bottomRightCLicked=True\n",
    "        \n",
    "cap=cv2.VideoCapture(0)\n",
    "width=int(cap.get(cv2.CAP_PROP_FRAME_WIDTH))\n",
    "height=int(cap.get(cv2.CAP_PROP_FRAME_HEIGHT))\n",
    "videoWriter=cv2.VideoWriter(\"myvideoo.mp4\",cv2.VideoWriter_fourcc(*'XVID'),20,(width,height))\n",
    "cv2.namedWindow(\"Mouse_rectanlge\")\n",
    "cv2.setMouseCallback(\"Mouse_rectanlge\",createRectangle)\n",
    "while True:\n",
    "    ret,frame=cap.read()\n",
    "    if topLeftClicked:\n",
    "        cv2.circle(frame,pt1,5,(0,0,255),-1)\n",
    "    if bottomRightCLicked:\n",
    "        cv2.rectangle(frame,pt1,pt2,(0,0,255),5)\n",
    "    videoWriter.write(frame)\n",
    "    cv2.imshow(\"Mouse_rectanlge\",frame)\n",
    "    if cv2.waitKey(1) & 0xFF ==27:\n",
    "        break\n",
    "cap.release()\n",
    "cv2.destroyAllWindows()"
   ]
  },
  {
   "cell_type": "code",
   "execution_count": null,
   "id": "8b57302b",
   "metadata": {},
   "outputs": [],
   "source": []
  }
 ],
 "metadata": {
  "kernelspec": {
   "display_name": "Python 3",
   "language": "python",
   "name": "python3"
  },
  "language_info": {
   "codemirror_mode": {
    "name": "ipython",
    "version": 3
   },
   "file_extension": ".py",
   "mimetype": "text/x-python",
   "name": "python",
   "nbconvert_exporter": "python",
   "pygments_lexer": "ipython3",
   "version": "3.8.8"
  }
 },
 "nbformat": 4,
 "nbformat_minor": 5
}
