{
 "cells": [
  {
   "cell_type": "code",
   "execution_count": 1,
   "id": "d45d7afd",
   "metadata": {},
   "outputs": [],
   "source": [
    "#we will test this with scripting\n",
    "import matplotlib.pyplot as plt\n",
    "import numpy as np\n",
    "import cv2 "
   ]
  },
  {
   "cell_type": "code",
   "execution_count": null,
   "id": "ff0364aa",
   "metadata": {},
   "outputs": [],
   "source": [
    "def mouseAction(action,x,y,flags,params):\n",
    "    if action ==cv2.EVENT_LBUTTONDOWN:\n",
    "        cv2.circle(blank_image,center=(x,y),color=(255,0,0),radius=20,thickness=-1)\n",
    "    if action ==cv2.EVENT_RBUTTONDOWN:\n",
    "        cv2.circle(blank_image,center=(x,y),color=(0,255,0),radius=20,thickness=-1)\n",
    "\n",
    "\n",
    "    \n",
    "cv2.namedWindow(winname=\"my_drawing\")\n",
    "cv2.setMouseCallback(\"my_drawing\",mouseAction)\n",
    "blank_image=np.zeros(shape=(512,512,3))\n",
    "while True:\n",
    "    cv2.imshow(\"my_drawing\",blank_image)\n",
    "    if cv2.waitKey(1) & 0xFF==27 :\n",
    "        break\n",
    "    \n",
    "cv2.destroyAllWindows()"
   ]
  },
  {
   "cell_type": "code",
   "execution_count": null,
   "id": "245b0e33",
   "metadata": {},
   "outputs": [],
   "source": []
  }
 ],
 "metadata": {
  "kernelspec": {
   "display_name": "Python 3",
   "language": "python",
   "name": "python3"
  },
  "language_info": {
   "codemirror_mode": {
    "name": "ipython",
    "version": 3
   },
   "file_extension": ".py",
   "mimetype": "text/x-python",
   "name": "python",
   "nbconvert_exporter": "python",
   "pygments_lexer": "ipython3",
   "version": "3.8.8"
  }
 },
 "nbformat": 4,
 "nbformat_minor": 5
}
