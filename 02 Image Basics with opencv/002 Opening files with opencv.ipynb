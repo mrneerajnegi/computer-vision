{
 "cells": [
  {
   "cell_type": "code",
   "execution_count": 4,
   "id": "1b5fbac3",
   "metadata": {},
   "outputs": [],
   "source": [
    "import matplotlib.pyplot as plt\n",
    "import cv2"
   ]
  },
  {
   "cell_type": "code",
   "execution_count": 5,
   "id": "471a61b2",
   "metadata": {},
   "outputs": [],
   "source": [
    "img_cv=cv2.imread(\"../Computer-Vision-with-Python/DATA/00-puppy.jpg\")"
   ]
  },
  {
   "cell_type": "code",
   "execution_count": 6,
   "id": "9319c465",
   "metadata": {},
   "outputs": [],
   "source": [
    "#it hangs in mac/linux , so we do this with script\n",
    "# cv2.imshow(\"Puppy\",img_cv)\n",
    "# cv2.waitKey()"
   ]
  },
  {
   "cell_type": "code",
   "execution_count": 7,
   "id": "dd5b4f56",
   "metadata": {},
   "outputs": [],
   "source": [
    "while True:\n",
    "    cv2.imshow(\"Puppy\",img_cv)\n",
    "    if cv2.waitKey(1) & 0xFF==27:   #its for esc button to close the image\n",
    "        break\n",
    "cv2.destroyAllWindows()"
   ]
  },
  {
   "cell_type": "code",
   "execution_count": null,
   "id": "6dd42298",
   "metadata": {},
   "outputs": [],
   "source": []
  }
 ],
 "metadata": {
  "kernelspec": {
   "display_name": "Python 3",
   "language": "python",
   "name": "python3"
  },
  "language_info": {
   "codemirror_mode": {
    "name": "ipython",
    "version": 3
   },
   "file_extension": ".py",
   "mimetype": "text/x-python",
   "name": "python",
   "nbconvert_exporter": "python",
   "pygments_lexer": "ipython3",
   "version": "3.8.8"
  }
 },
 "nbformat": 4,
 "nbformat_minor": 5
}
