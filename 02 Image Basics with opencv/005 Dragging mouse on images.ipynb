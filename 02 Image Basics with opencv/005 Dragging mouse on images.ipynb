{
 "cells": [
  {
   "cell_type": "code",
   "execution_count": 1,
   "id": "ecb20635",
   "metadata": {},
   "outputs": [],
   "source": [
    "import numpy as np\n",
    "import matplotlib.pyplot as plt\n",
    "import cv2"
   ]
  },
  {
   "cell_type": "code",
   "execution_count": null,
   "id": "0def446c",
   "metadata": {},
   "outputs": [],
   "source": [
    "xi=-1 \n",
    "vi=-1 \n",
    "isDrwaring=False\n",
    "def draw_rectangle(event,x,y,flags,params):\n",
    "    global xi ,vi,isDrwaring\n",
    "    if event == cv2.EVENT_LBUTTONDOWN:\n",
    "        xi=x\n",
    "        vi=y\n",
    "        isDrwaring=True\n",
    "        cv2.rectangle(blank_image,(xi,vi),(x,y),color=(255,0,0),thickness=-1)\n",
    "    elif event== cv2.EVENT_LBUTTONUP:\n",
    "        isDrwaring=False\n",
    "        cv2.rectangle(blank_image,(xi,vi),(x,y),color=(255,0,0),thickness=-1)\n",
    "    elif event ==cv2.EVENT_MOUSEMOVE:\n",
    "        if isDrwaring==True:\n",
    "            cv2.rectangle(blank_image,(xi,vi),(x,y),color=(255,0,0),thickness=-1)\n",
    "        \n",
    "\n",
    "cv2.namedWindow(\"my_image\")\n",
    "cv2.setMouseCallback(\"my_image\",draw_rectangle)\n",
    "blank_image=np.zeros((512,512))\n",
    "\n",
    "while True:\n",
    "    cv2.imshow(\"my_image\",blank_image)\n",
    "    if cv2.waitKey(1) & 0xFF ==27 :\n",
    "        break\n",
    "cv2.destroyAllWindows()"
   ]
  },
  {
   "cell_type": "code",
   "execution_count": null,
   "id": "fa7a28b7",
   "metadata": {},
   "outputs": [],
   "source": []
  }
 ],
 "metadata": {
  "kernelspec": {
   "display_name": "Python 3",
   "language": "python",
   "name": "python3"
  },
  "language_info": {
   "codemirror_mode": {
    "name": "ipython",
    "version": 3
   },
   "file_extension": ".py",
   "mimetype": "text/x-python",
   "name": "python",
   "nbconvert_exporter": "python",
   "pygments_lexer": "ipython3",
   "version": "3.8.8"
  }
 },
 "nbformat": 4,
 "nbformat_minor": 5
}
